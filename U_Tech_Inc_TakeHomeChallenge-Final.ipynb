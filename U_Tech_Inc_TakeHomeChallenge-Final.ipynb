{
 "cells": [
  {
   "cell_type": "code",
   "execution_count": null,
   "id": "c726e25c",
   "metadata": {},
   "outputs": [],
   "source": [
    "#Part 1: Exploratory Data Analysis"
   ]
  },
  {
   "cell_type": "code",
   "execution_count": 74,
   "id": "3485054f",
   "metadata": {},
   "outputs": [],
   "source": [
    "#Importing necessary libraries\n",
    "import pandas as pd\n",
    "import numpy as np\n",
    "import random\n",
    "import datetime as dt\n",
    "import matplotlib.pyplot as plt\n",
    "import json\n",
    "from pandas import Series\n",
    "from sklearn.model_selection import train_test_split\n",
    "from sklearn.tree import DecisionTreeClassifier\n",
    "from sklearn.metrics import classification_report, confusion_matrix"
   ]
  },
  {
   "cell_type": "code",
   "execution_count": 2,
   "id": "80456b99",
   "metadata": {},
   "outputs": [],
   "source": [
    "#Loading the dataset\n",
    "df = pd.read_json('logins.json')"
   ]
  },
  {
   "cell_type": "code",
   "execution_count": 3,
   "id": "581db911",
   "metadata": {},
   "outputs": [
    {
     "data": {
      "text/plain": [
       "(93142, 1)"
      ]
     },
     "execution_count": 3,
     "metadata": {},
     "output_type": "execute_result"
    }
   ],
   "source": [
    "#Getting an idea of the shape of dataset. Rows:Columns\n",
    "df.shape"
   ]
  },
  {
   "cell_type": "code",
   "execution_count": 4,
   "id": "e98fc95e",
   "metadata": {},
   "outputs": [
    {
     "name": "stdout",
     "output_type": "stream",
     "text": [
      "<class 'pandas.core.frame.DataFrame'>\n",
      "RangeIndex: 93142 entries, 0 to 93141\n",
      "Data columns (total 1 columns):\n",
      " #   Column      Non-Null Count  Dtype         \n",
      "---  ------      --------------  -----         \n",
      " 0   login_time  93142 non-null  datetime64[ns]\n",
      "dtypes: datetime64[ns](1)\n",
      "memory usage: 727.8 KB\n"
     ]
    }
   ],
   "source": [
    "#Finding out the properties of the data\n",
    "df.info()"
   ]
  },
  {
   "cell_type": "code",
   "execution_count": 5,
   "id": "7d31ff8a",
   "metadata": {},
   "outputs": [
    {
     "data": {
      "text/html": [
       "<div>\n",
       "<style scoped>\n",
       "    .dataframe tbody tr th:only-of-type {\n",
       "        vertical-align: middle;\n",
       "    }\n",
       "\n",
       "    .dataframe tbody tr th {\n",
       "        vertical-align: top;\n",
       "    }\n",
       "\n",
       "    .dataframe thead th {\n",
       "        text-align: right;\n",
       "    }\n",
       "</style>\n",
       "<table border=\"1\" class=\"dataframe\">\n",
       "  <thead>\n",
       "    <tr style=\"text-align: right;\">\n",
       "      <th></th>\n",
       "      <th>login_time</th>\n",
       "    </tr>\n",
       "  </thead>\n",
       "  <tbody>\n",
       "    <tr>\n",
       "      <th>0</th>\n",
       "      <td>1970-01-01 20:13:18</td>\n",
       "    </tr>\n",
       "    <tr>\n",
       "      <th>1</th>\n",
       "      <td>1970-01-01 20:16:10</td>\n",
       "    </tr>\n",
       "    <tr>\n",
       "      <th>2</th>\n",
       "      <td>1970-01-01 20:16:37</td>\n",
       "    </tr>\n",
       "    <tr>\n",
       "      <th>3</th>\n",
       "      <td>1970-01-01 20:16:36</td>\n",
       "    </tr>\n",
       "    <tr>\n",
       "      <th>4</th>\n",
       "      <td>1970-01-01 20:26:21</td>\n",
       "    </tr>\n",
       "    <tr>\n",
       "      <th>5</th>\n",
       "      <td>1970-01-01 20:21:41</td>\n",
       "    </tr>\n",
       "    <tr>\n",
       "      <th>6</th>\n",
       "      <td>1970-01-01 20:12:16</td>\n",
       "    </tr>\n",
       "    <tr>\n",
       "      <th>7</th>\n",
       "      <td>1970-01-01 20:35:47</td>\n",
       "    </tr>\n",
       "    <tr>\n",
       "      <th>8</th>\n",
       "      <td>1970-01-01 20:35:38</td>\n",
       "    </tr>\n",
       "    <tr>\n",
       "      <th>9</th>\n",
       "      <td>1970-01-01 20:47:52</td>\n",
       "    </tr>\n",
       "  </tbody>\n",
       "</table>\n",
       "</div>"
      ],
      "text/plain": [
       "           login_time\n",
       "0 1970-01-01 20:13:18\n",
       "1 1970-01-01 20:16:10\n",
       "2 1970-01-01 20:16:37\n",
       "3 1970-01-01 20:16:36\n",
       "4 1970-01-01 20:26:21\n",
       "5 1970-01-01 20:21:41\n",
       "6 1970-01-01 20:12:16\n",
       "7 1970-01-01 20:35:47\n",
       "8 1970-01-01 20:35:38\n",
       "9 1970-01-01 20:47:52"
      ]
     },
     "execution_count": 5,
     "metadata": {},
     "output_type": "execute_result"
    }
   ],
   "source": [
    "#Getting a sense of the data to work with\n",
    "df.head(10)"
   ]
  },
  {
   "cell_type": "code",
   "execution_count": 6,
   "id": "22680a20",
   "metadata": {},
   "outputs": [],
   "source": [
    "#Adding an additional feature to get a count of total logins for each time interval\n",
    "df['count'] = 1"
   ]
  },
  {
   "cell_type": "code",
   "execution_count": 7,
   "id": "80d679f3",
   "metadata": {},
   "outputs": [],
   "source": [
    "#Modifying the data to convert it to a dataframe with 2 features and resetting the index\n",
    "df = pd.DataFrame(df.groupby([pd.Grouper(key='login_time', freq='15Min')]).sum()).reset_index()"
   ]
  },
  {
   "cell_type": "code",
   "execution_count": 16,
   "id": "db92c68b",
   "metadata": {},
   "outputs": [
    {
     "data": {
      "text/html": [
       "<div>\n",
       "<style scoped>\n",
       "    .dataframe tbody tr th:only-of-type {\n",
       "        vertical-align: middle;\n",
       "    }\n",
       "\n",
       "    .dataframe tbody tr th {\n",
       "        vertical-align: top;\n",
       "    }\n",
       "\n",
       "    .dataframe thead th {\n",
       "        text-align: right;\n",
       "    }\n",
       "</style>\n",
       "<table border=\"1\" class=\"dataframe\">\n",
       "  <thead>\n",
       "    <tr style=\"text-align: right;\">\n",
       "      <th></th>\n",
       "      <th>login_time</th>\n",
       "      <th>count</th>\n",
       "    </tr>\n",
       "  </thead>\n",
       "  <tbody>\n",
       "    <tr>\n",
       "      <th>0</th>\n",
       "      <td>1970-01-01 20:00:00</td>\n",
       "      <td>2</td>\n",
       "    </tr>\n",
       "    <tr>\n",
       "      <th>1</th>\n",
       "      <td>1970-01-01 20:15:00</td>\n",
       "      <td>6</td>\n",
       "    </tr>\n",
       "    <tr>\n",
       "      <th>2</th>\n",
       "      <td>1970-01-01 20:30:00</td>\n",
       "      <td>9</td>\n",
       "    </tr>\n",
       "    <tr>\n",
       "      <th>3</th>\n",
       "      <td>1970-01-01 20:45:00</td>\n",
       "      <td>7</td>\n",
       "    </tr>\n",
       "    <tr>\n",
       "      <th>4</th>\n",
       "      <td>1970-01-01 21:00:00</td>\n",
       "      <td>1</td>\n",
       "    </tr>\n",
       "  </tbody>\n",
       "</table>\n",
       "</div>"
      ],
      "text/plain": [
       "           login_time  count\n",
       "0 1970-01-01 20:00:00      2\n",
       "1 1970-01-01 20:15:00      6\n",
       "2 1970-01-01 20:30:00      9\n",
       "3 1970-01-01 20:45:00      7\n",
       "4 1970-01-01 21:00:00      1"
      ]
     },
     "execution_count": 16,
     "metadata": {},
     "output_type": "execute_result"
    }
   ],
   "source": [
    "#A sampling of the newly created dataframe\n",
    "df.head()"
   ]
  },
  {
   "cell_type": "code",
   "execution_count": 18,
   "id": "caa2aa57",
   "metadata": {},
   "outputs": [
    {
     "data": {
      "image/png": "[encoded data removed]",
      "text/plain": [
       "<Figure size 432x288 with 1 Axes>"
      ]
     },
     "metadata": {
      "needs_background": "light"
     },
     "output_type": "display_data"
    }
   ],
   "source": [
    "#Line plot of the dataframe\n",
    "\n",
    "#As can be seen in the visualization of the data here, there are periodic and cyclic spikes in the traffic of logins. On\n",
    "#average, it would appear that at the end of each 7 day cycle, the spike in traffic jumps significantly in the amount of \n",
    "#logins recorded. Also of note, the beginning of both March and April experienced the highest spikes in traffic with these\n",
    "#2 months overall registering higher traffic in user logins.\n",
    "\n",
    "df.plot(x='login_time', y='count');"
   ]
  },
  {
   "cell_type": "code",
   "execution_count": null,
   "id": "453e9f31",
   "metadata": {},
   "outputs": [],
   "source": [
    "#Part 2: Experiment and Metrics Design"
   ]
  },
  {
   "cell_type": "code",
   "execution_count": null,
   "id": "cbd44edf",
   "metadata": {},
   "outputs": [],
   "source": [
    "# Answer 1: The key metric I would choose to encourage driver-partners to serve residents of both cities and not to be\n",
    "#exclusive in their services just to one city would be the metric of customer conversion rate. By using this metric as an\n",
    "#indicator for success, the driver-partners would be able to see the potential increase and percentage of total customer\n",
    "#base that serving residents of both cities would bring thereby increasing their demand and earnings."
   ]
  },
  {
   "cell_type": "code",
   "execution_count": null,
   "id": "58938a56",
   "metadata": {},
   "outputs": [],
   "source": [
    "# Answer 2: a) I would conduct an experiment where one portion of the business would continue with the old model\n",
    "#of having driver-partners remain exclusive to the city they've been serving while I would have the other half of the fleet\n",
    "#expand to offer transportation services to the other city as well. In this way, we could measure after the end of a certain\n",
    "#period, say a month or so, how much of a difference in revenue there is and to measure the amount of demand for such \n",
    "#intercity transportation services."
   ]
  },
  {
   "cell_type": "code",
   "execution_count": null,
   "id": "3d36cc2f",
   "metadata": {},
   "outputs": [],
   "source": [
    "# Answer 2: b) The A/B testing would be used to check the veracity of the experiment between the two groups to\n",
    "#observe any signficant differences between the old model of services versus the new model where driver-partner services\n",
    "#are now expanded to operate between the two cities. "
   ]
  },
  {
   "cell_type": "code",
   "execution_count": null,
   "id": "c9a645a7",
   "metadata": {},
   "outputs": [],
   "source": [
    "# Answer 2: c) To ensure that the experiment wouldn't be evaluated based on random results, statistical significance would\n",
    "#be accounted for using the p-value. With the p-value, we can evaluate the exact probablility that the results of the \n",
    "#experiment were due to chance. We need to know the exact probability that our results were simply due to chance or if they\n",
    "#hold any real significance. If we run the experiment multiple times and end up with the same variation in conversion rates \n",
    "#between the two groups, then it is only natural variance at play and thus would not be statistically significant. A/B\n",
    "#testing software would do this for us however with the multiple randomized tests. If our results rarely occur, this would\n",
    "#be statistically significant. \n",
    "\n",
    "#A recommendation I would give to city operations would be to aim for at least 95% significance level or better yet, a 99%+\n",
    "#significance level which would be a p-value of 0.05% or lower as we would want results from the experiment where 0.05% or \n",
    "#lower of the continued variations of the experiment would be at least as extreme as our original experiment or even less.\n",
    "\n",
    "#Some caveats for city operations to keep in mind is that Gotham and Metropolis operate on different circadian rhythms\n",
    "#during the week so any potential profit should not be expected around this time if at all. The major use of the newly\n",
    "#implemented intercity driver-partner feature should see its major use case during the weekend where both cities are\n",
    "#simultaneously up and running within the same hours."
   ]
  },
  {
   "cell_type": "code",
   "execution_count": null,
   "id": "2edcc20b",
   "metadata": {},
   "outputs": [],
   "source": [
    "#Part 3: Predictive Modeling"
   ]
  },
  {
   "cell_type": "code",
   "execution_count": 25,
   "id": "6ffbe3b6",
   "metadata": {},
   "outputs": [],
   "source": [
    "#Loading the dataset\n",
    "dataframe = pd.read_json('ultimate_data_challenge.json')"
   ]
  },
  {
   "cell_type": "code",
   "execution_count": 26,
   "id": "affd36b8",
   "metadata": {},
   "outputs": [
    {
     "data": {
      "text/plain": [
       "(50000, 12)"
      ]
     },
     "execution_count": 26,
     "metadata": {},
     "output_type": "execute_result"
    }
   ],
   "source": [
    "#Getting an idea of the shape of the dataset. Rows:Columns\n",
    "dataframe.shape"
   ]
  },
  {
   "cell_type": "code",
   "execution_count": 27,
   "id": "b24256ac",
   "metadata": {},
   "outputs": [
    {
     "name": "stdout",
     "output_type": "stream",
     "text": [
      "<class 'pandas.core.frame.DataFrame'>\n",
      "RangeIndex: 50000 entries, 0 to 49999\n",
      "Data columns (total 12 columns):\n",
      " #   Column                  Non-Null Count  Dtype  \n",
      "---  ------                  --------------  -----  \n",
      " 0   city                    50000 non-null  object \n",
      " 1   trips_in_first_30_days  50000 non-null  int64  \n",
      " 2   signup_date             50000 non-null  object \n",
      " 3   avg_rating_of_driver    41878 non-null  float64\n",
      " 4   avg_surge               50000 non-null  float64\n",
      " 5   last_trip_date          50000 non-null  object \n",
      " 6   phone                   49604 non-null  object \n",
      " 7   surge_pct               50000 non-null  float64\n",
      " 8   ultimate_black_user     50000 non-null  bool   \n",
      " 9   weekday_pct             50000 non-null  float64\n",
      " 10  avg_dist                50000 non-null  float64\n",
      " 11  avg_rating_by_driver    49799 non-null  float64\n",
      "dtypes: bool(1), float64(6), int64(1), object(4)\n",
      "memory usage: 4.2+ MB\n"
     ]
    }
   ],
   "source": [
    "#Finding out the properties of the data\n",
    "dataframe.info()"
   ]
  },
  {
   "cell_type": "code",
   "execution_count": 28,
   "id": "71cc8a40",
   "metadata": {},
   "outputs": [
    {
     "data": {
      "text/html": [
       "<div>\n",
       "<style scoped>\n",
       "    .dataframe tbody tr th:only-of-type {\n",
       "        vertical-align: middle;\n",
       "    }\n",
       "\n",
       "    .dataframe tbody tr th {\n",
       "        vertical-align: top;\n",
       "    }\n",
       "\n",
       "    .dataframe thead th {\n",
       "        text-align: right;\n",
       "    }\n",
       "</style>\n",
       "<table border=\"1\" class=\"dataframe\">\n",
       "  <thead>\n",
       "    <tr style=\"text-align: right;\">\n",
       "      <th></th>\n",
       "      <th>city</th>\n",
       "      <th>trips_in_first_30_days</th>\n",
       "      <th>signup_date</th>\n",
       "      <th>avg_rating_of_driver</th>\n",
       "      <th>avg_surge</th>\n",
       "      <th>last_trip_date</th>\n",
       "      <th>phone</th>\n",
       "      <th>surge_pct</th>\n",
       "      <th>ultimate_black_user</th>\n",
       "      <th>weekday_pct</th>\n",
       "      <th>avg_dist</th>\n",
       "      <th>avg_rating_by_driver</th>\n",
       "    </tr>\n",
       "  </thead>\n",
       "  <tbody>\n",
       "    <tr>\n",
       "      <th>0</th>\n",
       "      <td>King's Landing</td>\n",
       "      <td>4</td>\n",
       "      <td>2014-01-25</td>\n",
       "      <td>4.7</td>\n",
       "      <td>1.10</td>\n",
       "      <td>2014-06-17</td>\n",
       "      <td>iPhone</td>\n",
       "      <td>15.4</td>\n",
       "      <td>True</td>\n",
       "      <td>46.2</td>\n",
       "      <td>3.67</td>\n",
       "      <td>5.0</td>\n",
       "    </tr>\n",
       "    <tr>\n",
       "      <th>1</th>\n",
       "      <td>Astapor</td>\n",
       "      <td>0</td>\n",
       "      <td>2014-01-29</td>\n",
       "      <td>5.0</td>\n",
       "      <td>1.00</td>\n",
       "      <td>2014-05-05</td>\n",
       "      <td>Android</td>\n",
       "      <td>0.0</td>\n",
       "      <td>False</td>\n",
       "      <td>50.0</td>\n",
       "      <td>8.26</td>\n",
       "      <td>5.0</td>\n",
       "    </tr>\n",
       "    <tr>\n",
       "      <th>2</th>\n",
       "      <td>Astapor</td>\n",
       "      <td>3</td>\n",
       "      <td>2014-01-06</td>\n",
       "      <td>4.3</td>\n",
       "      <td>1.00</td>\n",
       "      <td>2014-01-07</td>\n",
       "      <td>iPhone</td>\n",
       "      <td>0.0</td>\n",
       "      <td>False</td>\n",
       "      <td>100.0</td>\n",
       "      <td>0.77</td>\n",
       "      <td>5.0</td>\n",
       "    </tr>\n",
       "    <tr>\n",
       "      <th>3</th>\n",
       "      <td>King's Landing</td>\n",
       "      <td>9</td>\n",
       "      <td>2014-01-10</td>\n",
       "      <td>4.6</td>\n",
       "      <td>1.14</td>\n",
       "      <td>2014-06-29</td>\n",
       "      <td>iPhone</td>\n",
       "      <td>20.0</td>\n",
       "      <td>True</td>\n",
       "      <td>80.0</td>\n",
       "      <td>2.36</td>\n",
       "      <td>4.9</td>\n",
       "    </tr>\n",
       "    <tr>\n",
       "      <th>4</th>\n",
       "      <td>Winterfell</td>\n",
       "      <td>14</td>\n",
       "      <td>2014-01-27</td>\n",
       "      <td>4.4</td>\n",
       "      <td>1.19</td>\n",
       "      <td>2014-03-15</td>\n",
       "      <td>Android</td>\n",
       "      <td>11.8</td>\n",
       "      <td>False</td>\n",
       "      <td>82.4</td>\n",
       "      <td>3.13</td>\n",
       "      <td>4.9</td>\n",
       "    </tr>\n",
       "  </tbody>\n",
       "</table>\n",
       "</div>"
      ],
      "text/plain": [
       "             city  trips_in_first_30_days signup_date  avg_rating_of_driver  \\\n",
       "0  King's Landing                       4  2014-01-25                   4.7   \n",
       "1         Astapor                       0  2014-01-29                   5.0   \n",
       "2         Astapor                       3  2014-01-06                   4.3   \n",
       "3  King's Landing                       9  2014-01-10                   4.6   \n",
       "4      Winterfell                      14  2014-01-27                   4.4   \n",
       "\n",
       "   avg_surge last_trip_date    phone  surge_pct  ultimate_black_user  \\\n",
       "0       1.10     2014-06-17   iPhone       15.4                 True   \n",
       "1       1.00     2014-05-05  Android        0.0                False   \n",
       "2       1.00     2014-01-07   iPhone        0.0                False   \n",
       "3       1.14     2014-06-29   iPhone       20.0                 True   \n",
       "4       1.19     2014-03-15  Android       11.8                False   \n",
       "\n",
       "   weekday_pct  avg_dist  avg_rating_by_driver  \n",
       "0         46.2      3.67                   5.0  \n",
       "1         50.0      8.26                   5.0  \n",
       "2        100.0      0.77                   5.0  \n",
       "3         80.0      2.36                   4.9  \n",
       "4         82.4      3.13                   4.9  "
      ]
     },
     "execution_count": 28,
     "metadata": {},
     "output_type": "execute_result"
    }
   ],
   "source": [
    "#Getting a sense of the data to work with\n",
    "dataframe.head()"
   ]
  },
  {
   "cell_type": "code",
   "execution_count": 32,
   "id": "d5ceeb58",
   "metadata": {},
   "outputs": [
    {
     "data": {
      "text/plain": [
       "'2014-01-01'"
      ]
     },
     "execution_count": 32,
     "metadata": {},
     "output_type": "execute_result"
    }
   ],
   "source": [
    "#Finding out date of first signup\n",
    "dataframe['signup_date'].min()"
   ]
  },
  {
   "cell_type": "code",
   "execution_count": 33,
   "id": "a010cf40",
   "metadata": {},
   "outputs": [
    {
     "data": {
      "text/plain": [
       "'2014-01-01'"
      ]
     },
     "execution_count": 33,
     "metadata": {},
     "output_type": "execute_result"
    }
   ],
   "source": [
    "#Finding out the oldest last trip taken\n",
    "dataframe['last_trip_date'].min()"
   ]
  },
  {
   "cell_type": "code",
   "execution_count": 29,
   "id": "43259d0d",
   "metadata": {},
   "outputs": [
    {
     "data": {
      "text/plain": [
       "'2014-01-31'"
      ]
     },
     "execution_count": 29,
     "metadata": {},
     "output_type": "execute_result"
    }
   ],
   "source": [
    "#Finding out the most recent signup date\n",
    "dataframe['signup_date'].max()"
   ]
  },
  {
   "cell_type": "code",
   "execution_count": 39,
   "id": "674b0f90",
   "metadata": {},
   "outputs": [
    {
     "data": {
      "text/plain": [
       "'2014-07-01'"
      ]
     },
     "execution_count": 39,
     "metadata": {},
     "output_type": "execute_result"
    }
   ],
   "source": [
    "#Finding out the most recently recorded trip taken\n",
    "dataframe['last_trip_date'].max()"
   ]
  },
  {
   "cell_type": "code",
   "execution_count": 43,
   "id": "f33d6663",
   "metadata": {},
   "outputs": [],
   "source": [
    "#Dropping columns that may be insignificant for the purposes of our predictive model\n",
    "dataframe = dataframe.drop(columns=['city', 'signup_date', 'phone', ])"
   ]
  },
  {
   "cell_type": "code",
   "execution_count": 44,
   "id": "8a135e64",
   "metadata": {},
   "outputs": [],
   "source": [
    "#Dropping rows with missing values as scikit does not support missing values\n",
    "dataframe = dataframe.dropna()"
   ]
  },
  {
   "cell_type": "code",
   "execution_count": 46,
   "id": "7bc3915c",
   "metadata": {},
   "outputs": [
    {
     "name": "stdout",
     "output_type": "stream",
     "text": [
      "<class 'pandas.core.frame.DataFrame'>\n",
      "Int64Index: 41744 entries, 0 to 49998\n",
      "Data columns (total 9 columns):\n",
      " #   Column                  Non-Null Count  Dtype  \n",
      "---  ------                  --------------  -----  \n",
      " 0   trips_in_first_30_days  41744 non-null  int64  \n",
      " 1   avg_rating_of_driver    41744 non-null  float64\n",
      " 2   avg_surge               41744 non-null  float64\n",
      " 3   last_trip_date          41744 non-null  object \n",
      " 4   surge_pct               41744 non-null  float64\n",
      " 5   ultimate_black_user     41744 non-null  bool   \n",
      " 6   weekday_pct             41744 non-null  float64\n",
      " 7   avg_dist                41744 non-null  float64\n",
      " 8   avg_rating_by_driver    41744 non-null  float64\n",
      "dtypes: bool(1), float64(6), int64(1), object(1)\n",
      "memory usage: 2.9+ MB\n"
     ]
    }
   ],
   "source": [
    "#About 83% of the original users were retained after data cleaning/wrangling to remove for missing values\n",
    "dataframe.info()"
   ]
  },
  {
   "cell_type": "code",
   "execution_count": 57,
   "id": "b6cfa67b",
   "metadata": {},
   "outputs": [],
   "source": [
    "#Created a variable in which to divide the observations of last_trip_date by retained versus non-retained users and created\n",
    "#a new column to replace the old to render the data in a way in which the decision tree classifier will read\n",
    "date_reckoner = '2014-06-01'\n",
    "dataframe['last_trip'] = [1 if trip > date_reckoner else 0 for trip in dataframe['last_trip_date']]"
   ]
  },
  {
   "cell_type": "code",
   "execution_count": 61,
   "id": "b3da1920",
   "metadata": {},
   "outputs": [
    {
     "data": {
      "text/html": [
       "<div>\n",
       "<style scoped>\n",
       "    .dataframe tbody tr th:only-of-type {\n",
       "        vertical-align: middle;\n",
       "    }\n",
       "\n",
       "    .dataframe tbody tr th {\n",
       "        vertical-align: top;\n",
       "    }\n",
       "\n",
       "    .dataframe thead th {\n",
       "        text-align: right;\n",
       "    }\n",
       "</style>\n",
       "<table border=\"1\" class=\"dataframe\">\n",
       "  <thead>\n",
       "    <tr style=\"text-align: right;\">\n",
       "      <th></th>\n",
       "      <th>trips_in_first_30_days</th>\n",
       "      <th>avg_rating_of_driver</th>\n",
       "      <th>avg_surge</th>\n",
       "      <th>last_trip_date</th>\n",
       "      <th>surge_pct</th>\n",
       "      <th>ultimate_black_user</th>\n",
       "      <th>weekday_pct</th>\n",
       "      <th>avg_dist</th>\n",
       "      <th>avg_rating_by_driver</th>\n",
       "      <th>last_trip</th>\n",
       "      <th>ultimate_black_use</th>\n",
       "    </tr>\n",
       "  </thead>\n",
       "  <tbody>\n",
       "    <tr>\n",
       "      <th>0</th>\n",
       "      <td>4</td>\n",
       "      <td>4.7</td>\n",
       "      <td>1.10</td>\n",
       "      <td>2014-06-17</td>\n",
       "      <td>15.4</td>\n",
       "      <td>True</td>\n",
       "      <td>46.2</td>\n",
       "      <td>3.67</td>\n",
       "      <td>5.0</td>\n",
       "      <td>1</td>\n",
       "      <td>1</td>\n",
       "    </tr>\n",
       "    <tr>\n",
       "      <th>1</th>\n",
       "      <td>0</td>\n",
       "      <td>5.0</td>\n",
       "      <td>1.00</td>\n",
       "      <td>2014-05-05</td>\n",
       "      <td>0.0</td>\n",
       "      <td>False</td>\n",
       "      <td>50.0</td>\n",
       "      <td>8.26</td>\n",
       "      <td>5.0</td>\n",
       "      <td>0</td>\n",
       "      <td>0</td>\n",
       "    </tr>\n",
       "    <tr>\n",
       "      <th>2</th>\n",
       "      <td>3</td>\n",
       "      <td>4.3</td>\n",
       "      <td>1.00</td>\n",
       "      <td>2014-01-07</td>\n",
       "      <td>0.0</td>\n",
       "      <td>False</td>\n",
       "      <td>100.0</td>\n",
       "      <td>0.77</td>\n",
       "      <td>5.0</td>\n",
       "      <td>0</td>\n",
       "      <td>0</td>\n",
       "    </tr>\n",
       "    <tr>\n",
       "      <th>3</th>\n",
       "      <td>9</td>\n",
       "      <td>4.6</td>\n",
       "      <td>1.14</td>\n",
       "      <td>2014-06-29</td>\n",
       "      <td>20.0</td>\n",
       "      <td>True</td>\n",
       "      <td>80.0</td>\n",
       "      <td>2.36</td>\n",
       "      <td>4.9</td>\n",
       "      <td>1</td>\n",
       "      <td>1</td>\n",
       "    </tr>\n",
       "    <tr>\n",
       "      <th>4</th>\n",
       "      <td>14</td>\n",
       "      <td>4.4</td>\n",
       "      <td>1.19</td>\n",
       "      <td>2014-03-15</td>\n",
       "      <td>11.8</td>\n",
       "      <td>False</td>\n",
       "      <td>82.4</td>\n",
       "      <td>3.13</td>\n",
       "      <td>4.9</td>\n",
       "      <td>0</td>\n",
       "      <td>0</td>\n",
       "    </tr>\n",
       "  </tbody>\n",
       "</table>\n",
       "</div>"
      ],
      "text/plain": [
       "   trips_in_first_30_days  avg_rating_of_driver  avg_surge last_trip_date  \\\n",
       "0                       4                   4.7       1.10     2014-06-17   \n",
       "1                       0                   5.0       1.00     2014-05-05   \n",
       "2                       3                   4.3       1.00     2014-01-07   \n",
       "3                       9                   4.6       1.14     2014-06-29   \n",
       "4                      14                   4.4       1.19     2014-03-15   \n",
       "\n",
       "   surge_pct  ultimate_black_user  weekday_pct  avg_dist  \\\n",
       "0       15.4                 True         46.2      3.67   \n",
       "1        0.0                False         50.0      8.26   \n",
       "2        0.0                False        100.0      0.77   \n",
       "3       20.0                 True         80.0      2.36   \n",
       "4       11.8                False         82.4      3.13   \n",
       "\n",
       "   avg_rating_by_driver  last_trip  ultimate_black_use  \n",
       "0                   5.0          1                   1  \n",
       "1                   5.0          0                   0  \n",
       "2                   5.0          0                   0  \n",
       "3                   4.9          1                   1  \n",
       "4                   4.9          0                   0  "
      ]
     },
     "execution_count": 61,
     "metadata": {},
     "output_type": "execute_result"
    }
   ],
   "source": [
    "#Inspecting that the 2 newly created columns (above and below), have been added to the dataframe\n",
    "dataframe.head()"
   ]
  },
  {
   "cell_type": "code",
   "execution_count": 60,
   "id": "fd07c762",
   "metadata": {},
   "outputs": [],
   "source": [
    "#Created a new column to replace the old to render the data in a way in which the decision tree classifier will read\n",
    "dataframe['ultimate_black_use'] = [1 if user == True else 0 for user in dataframe['ultimate_black_user']]"
   ]
  },
  {
   "cell_type": "code",
   "execution_count": 62,
   "id": "93702182",
   "metadata": {},
   "outputs": [],
   "source": [
    "#Dropped 2 former columns after converting the data in them and assigning them to new columns\n",
    "dataframe = dataframe.drop(columns=['last_trip_date', 'ultimate_black_user'])"
   ]
  },
  {
   "cell_type": "code",
   "execution_count": 63,
   "id": "514216d3",
   "metadata": {},
   "outputs": [
    {
     "name": "stdout",
     "output_type": "stream",
     "text": [
      "<class 'pandas.core.frame.DataFrame'>\n",
      "Int64Index: 41744 entries, 0 to 49998\n",
      "Data columns (total 9 columns):\n",
      " #   Column                  Non-Null Count  Dtype  \n",
      "---  ------                  --------------  -----  \n",
      " 0   trips_in_first_30_days  41744 non-null  int64  \n",
      " 1   avg_rating_of_driver    41744 non-null  float64\n",
      " 2   avg_surge               41744 non-null  float64\n",
      " 3   surge_pct               41744 non-null  float64\n",
      " 4   weekday_pct             41744 non-null  float64\n",
      " 5   avg_dist                41744 non-null  float64\n",
      " 6   avg_rating_by_driver    41744 non-null  float64\n",
      " 7   last_trip               41744 non-null  int64  \n",
      " 8   ultimate_black_use      41744 non-null  int64  \n",
      "dtypes: float64(6), int64(3)\n",
      "memory usage: 4.2 MB\n"
     ]
    }
   ],
   "source": [
    "#Getting an idea of the properties of our modified dataset\n",
    "dataframe.info()"
   ]
  },
  {
   "cell_type": "code",
   "execution_count": 64,
   "id": "33d151ac",
   "metadata": {},
   "outputs": [
    {
     "data": {
      "text/plain": [
       "0    25016\n",
       "1    16728\n",
       "Name: last_trip, dtype: int64"
      ]
     },
     "execution_count": 64,
     "metadata": {},
     "output_type": "execute_result"
    }
   ],
   "source": [
    "#Approximately ~17K users were retained by Ultimate. Note: only ~83% of the original dataset was kept due to scikit-learn\n",
    "#note recognizing data with missing values\n",
    "dataframe['last_trip'].value_counts()"
   ]
  },
  {
   "cell_type": "code",
   "execution_count": 65,
   "id": "efe5b587",
   "metadata": {},
   "outputs": [],
   "source": [
    "#Dividing the dataset into attributes and labesl\n",
    "X = dataframe.drop('last_trip', axis=1)\n",
    "y= dataframe['last_trip']"
   ]
  },
  {
   "cell_type": "code",
   "execution_count": 67,
   "id": "50ec56f8",
   "metadata": {},
   "outputs": [],
   "source": [
    "#Implementing the final preprocessing step of dividing the dataset into train and test sets\n",
    "X_train, X_test, y_train, y_test = train_test_split(X, y, test_size=0.20)"
   ]
  },
  {
   "cell_type": "code",
   "execution_count": 72,
   "id": "c0d9d995",
   "metadata": {},
   "outputs": [],
   "source": [
    "#Created a decision tree classifier object and train the classifer with the training data.\n",
    "classifier = DecisionTreeClassifier()\n",
    "classifier.fit(X_train, y_train);"
   ]
  },
  {
   "cell_type": "code",
   "execution_count": 73,
   "id": "591b15ab",
   "metadata": {},
   "outputs": [],
   "source": [
    "#Making a prediction on the test data\n",
    "y_pred = classifier.predict(X_test)"
   ]
  },
  {
   "cell_type": "code",
   "execution_count": 75,
   "id": "3090e293",
   "metadata": {},
   "outputs": [
    {
     "name": "stdout",
     "output_type": "stream",
     "text": [
      "[[3602 1340]\n",
      " [1471 1936]]\n",
      "              precision    recall  f1-score   support\n",
      "\n",
      "           0       0.71      0.73      0.72      4942\n",
      "           1       0.59      0.57      0.58      3407\n",
      "\n",
      "    accuracy                           0.66      8349\n",
      "   macro avg       0.65      0.65      0.65      8349\n",
      "weighted avg       0.66      0.66      0.66      8349\n",
      "\n"
     ]
    }
   ],
   "source": [
    "#Evaluating the algorithm to see how accurate it is\n",
    "print(confusion_matrix(y_test, y_pred))\n",
    "print(classification_report(y_test, y_pred))"
   ]
  },
  {
   "cell_type": "code",
   "execution_count": null,
   "id": "f0b8ed00",
   "metadata": {},
   "outputs": [],
   "source": [
    "#Answer to Question 2: I chose the approach of classifying the data by the decision tree classifier due to the demands of \n",
    "#the inquiry of predicting which users will continue to use Ultimate's services and identifying the users who used the\n",
    "#service within the past month as active users as our label in which to use the attributes to delineate that path of user\n",
    "#versus non-user. Decision Trees are the perfect predictive model in conducting a multiple attribute analysis and in\n",
    "#partitioning the data into subset to illumine the path that leads to the 'decision' or label; in our case, what's likely\n",
    "#to convert someone into a user or not. Alternatives considered for addressing the inquiry include Neural Networks and\n",
    "#Support Vector Machines as they are both great at pattern recognition and analysing nonlinear relationships in data but\n",
    "#ultimately, I felt the decision tree classifier's approach was best suited to our inquiry. A major concern here is that the\n",
    "#accuracy of our decision tree classifier here at first-go is too low at only 66% and perhaps some further modifications\n",
    "#are called for such as having too high an attribute count (eight) is negatively impacting the accuracy. On this note,\n",
    "#perhaps multiple runs and running the classifier with a mix of only a handful of various attributes to see which one best\n",
    "#influences the label would better suffice for our purposes here.\n",
    "\n",
    "#I believe the model used here is quite valid in addressing our inquiry but since it is safe to say we have more than enough\n",
    "#observations on which to train and test on to ensure adequate data for the classifier to practice with, the perhaps higher\n",
    "#than usual attribute count caused the model to predict with high variance thus skewing the model toward less accuracy.\n",
    "\n",
    "#The key indicators of model performance is displayed in the cell above this one as illustrated by the classification report\n",
    "#and its readings of the model's performance with the metrics listed such as precision, recall, f1-score, etc."
   ]
  },
  {
   "cell_type": "code",
   "execution_count": null,
   "id": "753f4708",
   "metadata": {},
   "outputs": [],
   "source": [
    "#Answer to Question 3: From the insight gained by the decision tree classifier used for this inquiry, Ultimate can know \n",
    "#which users are more likely (or not) to convert to long-term users and remain for more than six months based on which \n",
    "#activites and the degree to which the users engaged the products and services offered by Ultimate. Ultimate can furthermore\n",
    "#request or do multiple runs with the algorithm here by modifying which attributes it implements in each trial and increase\n",
    "#the accuracy of the model here by selecting only a few of the attributes to decrease the variance in predictions. Knowing\n",
    "#which attributes are likely to lead to users/non-users can assist Ultimate in its marketing efforts to different segments\n",
    "#of its customer base and enhance its offerings to attract long-term users or reward the current long-term customers just to\n",
    "#conjure a few examples here in how Ultimate may leverage this insight."
   ]
  }
 ],
 "metadata": {
  "kernelspec": {
   "display_name": "Python 3",
   "language": "python",
   "name": "python3"
  },
  "language_info": {
   "codemirror_mode": {
    "name": "ipython",
    "version": 3
   },
   "file_extension": ".py",
   "mimetype": "text/x-python",
   "name": "python",
   "nbconvert_exporter": "python",
   "pygments_lexer": "ipython3",
   "version": "3.8.8"
  }
 },
 "nbformat": 4,
 "nbformat_minor": 5
}
