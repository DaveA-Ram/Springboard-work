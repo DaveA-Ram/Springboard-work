{
 "cells": [
  {
   "cell_type": "markdown",
   "id": "54828fc9",
   "metadata": {},
   "source": [
    "SELECT name\n",
    "FROM `Facilities`\n",
    "WHERE membercost > 0.0;"
   ]
  },
  {
   "cell_type": "markdown",
   "id": "5c78c3ca",
   "metadata": {},
   "source": [
    "SELECT COUNT( * )\n",
    "FROM `Facilities`\n",
    "WHERE membercost = 0.0;"
   ]
  },
  {
   "cell_type": "markdown",
   "id": "b10e9ff6",
   "metadata": {},
   "source": [
    "SELECT facid, name, membercost, monthlymaintenance\n",
    "FROM `Facilities`\n",
    "HAVING membercost < ( monthlymaintenance * 0.2 );"
   ]
  },
  {
   "cell_type": "markdown",
   "id": "f882a75b",
   "metadata": {},
   "source": [
    "SELECT *\n",
    "FROM `Facilities`\n",
    "WHERE facid <> 0\n",
    "AND facid NOT BETWEEN 2 AND 4\n",
    "AND facid NOT BETWEEN 6 AND 8;"
   ]
  },
  {
   "cell_type": "markdown",
   "id": "0c010614",
   "metadata": {},
   "source": [
    "SELECT name, monthlymaintenance,\n",
    "CASE WHEN monthlymaintenance > 100\n",
    "THEN 'Expensive'\n",
    "ELSE 'Cheap'\n",
    "END AS rankbyprice\n",
    "FROM `Facilities`;"
   ]
  },
  {
   "cell_type": "markdown",
   "id": "09357bc8",
   "metadata": {},
   "source": [
    "SELECT firstname, surname\n",
    "FROM `Members`\n",
    "ORDER BY joindate DESC;"
   ]
  },
  {
   "cell_type": "markdown",
   "id": "02674497",
   "metadata": {},
   "source": [
    "SELECT f.name AS facilityname, Concat(m.firstname, ' ', m.surname) AS fullname \n",
    "FROM `Facilities` AS f, `Members` AS m \n",
    "WHERE f.name LIKE 'Tennis%' \n",
    "ORDER BY fullname;"
   ]
  },
  {
   "cell_type": "markdown",
   "id": "a6830164",
   "metadata": {},
   "source": [
    "SELECT name, Concat(firstname, ', ', surname) AS fullname, membercost, guestcost \n",
    "FROM Facilities \n",
    "WHERE starttime = '2012-09-14' AND membercost > 30.0 OR guestcost > 30.0 \n",
    "ORDER BY membercost DESC, guestcost DESC;"
   ]
  },
  {
   "cell_type": "markdown",
   "id": "90ec9f14",
   "metadata": {},
   "source": [
    "SELECT name, Concat(firstname, ', ', surname) AS fullname, membercost, guestcost \n",
    "FROM Facilities \n",
    "WHERE starttime = '2012-09-14' \n",
    "AND membercost > (SELECT * FROM Bookings HAVING membercost * slots) \n",
    "OR guestcost > (SELECT * FROM bookings WHERE memid = 0 HAVING guestcost * slots) \n",
    "ORDER BY membercost DESC, guestcost DESC;"
   ]
  }
 ],
 "metadata": {
  "kernelspec": {
   "display_name": "Python 3",
   "language": "python",
   "name": "python3"
  },
  "language_info": {
   "codemirror_mode": {
    "name": "ipython",
    "version": 3
   },
   "file_extension": ".py",
   "mimetype": "text/x-python",
   "name": "python",
   "nbconvert_exporter": "python",
   "pygments_lexer": "ipython3",
   "version": "3.8.8"
  }
 },
 "nbformat": 4,
 "nbformat_minor": 5
}
