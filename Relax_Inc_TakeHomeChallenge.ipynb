{
 "cells": [
  {
   "cell_type": "code",
   "execution_count": 91,
   "id": "b63542b6",
   "metadata": {},
   "outputs": [],
   "source": [
    "#Importaing necessary libraries\n",
    "import pandas as pd"
   ]
  },
  {
   "cell_type": "code",
   "execution_count": 92,
   "id": "053b95a2",
   "metadata": {},
   "outputs": [],
   "source": [
    "#Loading the datasets\n",
    "df1 = pd.read_csv('takehome_users.csv')\n",
    "df2 = pd.read_csv('takehome_user_engagement.csv')"
   ]
  },
  {
   "cell_type": "code",
   "execution_count": 93,
   "id": "f057be6b",
   "metadata": {},
   "outputs": [
    {
     "data": {
      "text/html": [
       "<div>\n",
       "<style scoped>\n",
       "    .dataframe tbody tr th:only-of-type {\n",
       "        vertical-align: middle;\n",
       "    }\n",
       "\n",
       "    .dataframe tbody tr th {\n",
       "        vertical-align: top;\n",
       "    }\n",
       "\n",
       "    .dataframe thead th {\n",
       "        text-align: right;\n",
       "    }\n",
       "</style>\n",
       "<table border=\"1\" class=\"dataframe\">\n",
       "  <thead>\n",
       "    <tr style=\"text-align: right;\">\n",
       "      <th></th>\n",
       "      <th>object_id</th>\n",
       "      <th>creation_time</th>\n",
       "      <th>name</th>\n",
       "      <th>email</th>\n",
       "      <th>creation_source</th>\n",
       "      <th>last_session_creation_time</th>\n",
       "      <th>opted_in_to_mailing_list</th>\n",
       "      <th>enabled_for_marketing_drip</th>\n",
       "      <th>org_id</th>\n",
       "      <th>invited_by_user_id</th>\n",
       "    </tr>\n",
       "  </thead>\n",
       "  <tbody>\n",
       "    <tr>\n",
       "      <th>0</th>\n",
       "      <td>1</td>\n",
       "      <td>2014-04-22 03:53:30</td>\n",
       "      <td>Clausen August</td>\n",
       "      <td>AugustCClausen@yahoo.com</td>\n",
       "      <td>GUEST_INVITE</td>\n",
       "      <td>1.398139e+09</td>\n",
       "      <td>1</td>\n",
       "      <td>0</td>\n",
       "      <td>11</td>\n",
       "      <td>10803.0</td>\n",
       "    </tr>\n",
       "    <tr>\n",
       "      <th>1</th>\n",
       "      <td>2</td>\n",
       "      <td>2013-11-15 03:45:04</td>\n",
       "      <td>Poole Matthew</td>\n",
       "      <td>MatthewPoole@gustr.com</td>\n",
       "      <td>ORG_INVITE</td>\n",
       "      <td>1.396238e+09</td>\n",
       "      <td>0</td>\n",
       "      <td>0</td>\n",
       "      <td>1</td>\n",
       "      <td>316.0</td>\n",
       "    </tr>\n",
       "    <tr>\n",
       "      <th>2</th>\n",
       "      <td>3</td>\n",
       "      <td>2013-03-19 23:14:52</td>\n",
       "      <td>Bottrill Mitchell</td>\n",
       "      <td>MitchellBottrill@gustr.com</td>\n",
       "      <td>ORG_INVITE</td>\n",
       "      <td>1.363735e+09</td>\n",
       "      <td>0</td>\n",
       "      <td>0</td>\n",
       "      <td>94</td>\n",
       "      <td>1525.0</td>\n",
       "    </tr>\n",
       "    <tr>\n",
       "      <th>3</th>\n",
       "      <td>4</td>\n",
       "      <td>2013-05-21 08:09:28</td>\n",
       "      <td>Clausen Nicklas</td>\n",
       "      <td>NicklasSClausen@yahoo.com</td>\n",
       "      <td>GUEST_INVITE</td>\n",
       "      <td>1.369210e+09</td>\n",
       "      <td>0</td>\n",
       "      <td>0</td>\n",
       "      <td>1</td>\n",
       "      <td>5151.0</td>\n",
       "    </tr>\n",
       "    <tr>\n",
       "      <th>4</th>\n",
       "      <td>5</td>\n",
       "      <td>2013-01-17 10:14:20</td>\n",
       "      <td>Raw Grace</td>\n",
       "      <td>GraceRaw@yahoo.com</td>\n",
       "      <td>GUEST_INVITE</td>\n",
       "      <td>1.358850e+09</td>\n",
       "      <td>0</td>\n",
       "      <td>0</td>\n",
       "      <td>193</td>\n",
       "      <td>5240.0</td>\n",
       "    </tr>\n",
       "  </tbody>\n",
       "</table>\n",
       "</div>"
      ],
      "text/plain": [
       "   object_id        creation_time               name  \\\n",
       "0          1  2014-04-22 03:53:30     Clausen August   \n",
       "1          2  2013-11-15 03:45:04      Poole Matthew   \n",
       "2          3  2013-03-19 23:14:52  Bottrill Mitchell   \n",
       "3          4  2013-05-21 08:09:28    Clausen Nicklas   \n",
       "4          5  2013-01-17 10:14:20          Raw Grace   \n",
       "\n",
       "                        email creation_source  last_session_creation_time  \\\n",
       "0    AugustCClausen@yahoo.com    GUEST_INVITE                1.398139e+09   \n",
       "1      MatthewPoole@gustr.com      ORG_INVITE                1.396238e+09   \n",
       "2  MitchellBottrill@gustr.com      ORG_INVITE                1.363735e+09   \n",
       "3   NicklasSClausen@yahoo.com    GUEST_INVITE                1.369210e+09   \n",
       "4          GraceRaw@yahoo.com    GUEST_INVITE                1.358850e+09   \n",
       "\n",
       "   opted_in_to_mailing_list  enabled_for_marketing_drip  org_id  \\\n",
       "0                         1                           0      11   \n",
       "1                         0                           0       1   \n",
       "2                         0                           0      94   \n",
       "3                         0                           0       1   \n",
       "4                         0                           0     193   \n",
       "\n",
       "   invited_by_user_id  \n",
       "0             10803.0  \n",
       "1               316.0  \n",
       "2              1525.0  \n",
       "3              5151.0  \n",
       "4              5240.0  "
      ]
     },
     "execution_count": 93,
     "metadata": {},
     "output_type": "execute_result"
    }
   ],
   "source": [
    "#Getting an idea of the first dataset\n",
    "df1.head()"
   ]
  },
  {
   "cell_type": "code",
   "execution_count": 94,
   "id": "6a2a5be4",
   "metadata": {},
   "outputs": [
    {
     "data": {
      "text/plain": [
       "(12000, 10)"
      ]
     },
     "execution_count": 94,
     "metadata": {},
     "output_type": "execute_result"
    }
   ],
   "source": [
    "#Finding out the number of rows and columns the dataset consists of\n",
    "df1.shape"
   ]
  },
  {
   "cell_type": "code",
   "execution_count": 95,
   "id": "f049bcb0",
   "metadata": {},
   "outputs": [
    {
     "name": "stdout",
     "output_type": "stream",
     "text": [
      "<class 'pandas.core.frame.DataFrame'>\n",
      "RangeIndex: 12000 entries, 0 to 11999\n",
      "Data columns (total 10 columns):\n",
      " #   Column                      Non-Null Count  Dtype  \n",
      "---  ------                      --------------  -----  \n",
      " 0   object_id                   12000 non-null  int64  \n",
      " 1   creation_time               12000 non-null  object \n",
      " 2   name                        12000 non-null  object \n",
      " 3   email                       12000 non-null  object \n",
      " 4   creation_source             12000 non-null  object \n",
      " 5   last_session_creation_time  8823 non-null   float64\n",
      " 6   opted_in_to_mailing_list    12000 non-null  int64  \n",
      " 7   enabled_for_marketing_drip  12000 non-null  int64  \n",
      " 8   org_id                      12000 non-null  int64  \n",
      " 9   invited_by_user_id          6417 non-null   float64\n",
      "dtypes: float64(2), int64(4), object(4)\n",
      "memory usage: 937.6+ KB\n"
     ]
    }
   ],
   "source": [
    "#Finding out the properties of the first dataset\n",
    "df1.info()"
   ]
  },
  {
   "cell_type": "code",
   "execution_count": 96,
   "id": "0685cd1c",
   "metadata": {},
   "outputs": [],
   "source": [
    "#Dropped columns with missing values that will make the data easier to work with; these 2 columns aren't that useful to \n",
    "#address our inquiry anyway.\n",
    "df1 = df1.drop(columns=['last_session_creation_time', 'invited_by_user_id'])"
   ]
  },
  {
   "cell_type": "code",
   "execution_count": 97,
   "id": "1fcbdd36",
   "metadata": {},
   "outputs": [
    {
     "name": "stdout",
     "output_type": "stream",
     "text": [
      "<class 'pandas.core.frame.DataFrame'>\n",
      "RangeIndex: 12000 entries, 0 to 11999\n",
      "Data columns (total 8 columns):\n",
      " #   Column                      Non-Null Count  Dtype \n",
      "---  ------                      --------------  ----- \n",
      " 0   object_id                   12000 non-null  int64 \n",
      " 1   creation_time               12000 non-null  object\n",
      " 2   name                        12000 non-null  object\n",
      " 3   email                       12000 non-null  object\n",
      " 4   creation_source             12000 non-null  object\n",
      " 5   opted_in_to_mailing_list    12000 non-null  int64 \n",
      " 6   enabled_for_marketing_drip  12000 non-null  int64 \n",
      " 7   org_id                      12000 non-null  int64 \n",
      "dtypes: int64(4), object(4)\n",
      "memory usage: 750.1+ KB\n"
     ]
    }
   ],
   "source": [
    "#Info of the revised dataset\n",
    "df1.info()"
   ]
  },
  {
   "cell_type": "code",
   "execution_count": 98,
   "id": "1eaeea6c",
   "metadata": {},
   "outputs": [],
   "source": [
    "#Further revising the original dataset as I guage these features don't play too much a critical role of pivotal features\n",
    "#in determining 'adopted users'.\n",
    "df1 = df1.drop(columns=['creation_time', 'name', 'email',])"
   ]
  },
  {
   "cell_type": "code",
   "execution_count": 99,
   "id": "0b9001ff",
   "metadata": {},
   "outputs": [
    {
     "name": "stdout",
     "output_type": "stream",
     "text": [
      "<class 'pandas.core.frame.DataFrame'>\n",
      "RangeIndex: 12000 entries, 0 to 11999\n",
      "Data columns (total 5 columns):\n",
      " #   Column                      Non-Null Count  Dtype \n",
      "---  ------                      --------------  ----- \n",
      " 0   object_id                   12000 non-null  int64 \n",
      " 1   creation_source             12000 non-null  object\n",
      " 2   opted_in_to_mailing_list    12000 non-null  int64 \n",
      " 3   enabled_for_marketing_drip  12000 non-null  int64 \n",
      " 4   org_id                      12000 non-null  int64 \n",
      "dtypes: int64(4), object(1)\n",
      "memory usage: 468.9+ KB\n"
     ]
    }
   ],
   "source": [
    "#Finding out properties of our newly revised dataset\n",
    "df1.info()"
   ]
  },
  {
   "cell_type": "code",
   "execution_count": 69,
   "id": "b8b81b7a",
   "metadata": {},
   "outputs": [
    {
     "data": {
      "text/html": [
       "<div>\n",
       "<style scoped>\n",
       "    .dataframe tbody tr th:only-of-type {\n",
       "        vertical-align: middle;\n",
       "    }\n",
       "\n",
       "    .dataframe tbody tr th {\n",
       "        vertical-align: top;\n",
       "    }\n",
       "\n",
       "    .dataframe thead th {\n",
       "        text-align: right;\n",
       "    }\n",
       "</style>\n",
       "<table border=\"1\" class=\"dataframe\">\n",
       "  <thead>\n",
       "    <tr style=\"text-align: right;\">\n",
       "      <th></th>\n",
       "      <th>time_stamp</th>\n",
       "      <th>user_id</th>\n",
       "      <th>visited</th>\n",
       "    </tr>\n",
       "  </thead>\n",
       "  <tbody>\n",
       "    <tr>\n",
       "      <th>0</th>\n",
       "      <td>2014-04-22 03:53:30</td>\n",
       "      <td>1</td>\n",
       "      <td>1</td>\n",
       "    </tr>\n",
       "    <tr>\n",
       "      <th>1</th>\n",
       "      <td>2013-11-15 03:45:04</td>\n",
       "      <td>2</td>\n",
       "      <td>1</td>\n",
       "    </tr>\n",
       "    <tr>\n",
       "      <th>2</th>\n",
       "      <td>2013-11-29 03:45:04</td>\n",
       "      <td>2</td>\n",
       "      <td>1</td>\n",
       "    </tr>\n",
       "    <tr>\n",
       "      <th>3</th>\n",
       "      <td>2013-12-09 03:45:04</td>\n",
       "      <td>2</td>\n",
       "      <td>1</td>\n",
       "    </tr>\n",
       "    <tr>\n",
       "      <th>4</th>\n",
       "      <td>2013-12-25 03:45:04</td>\n",
       "      <td>2</td>\n",
       "      <td>1</td>\n",
       "    </tr>\n",
       "  </tbody>\n",
       "</table>\n",
       "</div>"
      ],
      "text/plain": [
       "            time_stamp  user_id  visited\n",
       "0  2014-04-22 03:53:30        1        1\n",
       "1  2013-11-15 03:45:04        2        1\n",
       "2  2013-11-29 03:45:04        2        1\n",
       "3  2013-12-09 03:45:04        2        1\n",
       "4  2013-12-25 03:45:04        2        1"
      ]
     },
     "execution_count": 69,
     "metadata": {},
     "output_type": "execute_result"
    }
   ],
   "source": [
    "#Getting an idea of the second dataset\n",
    "df2.head()"
   ]
  },
  {
   "cell_type": "code",
   "execution_count": 70,
   "id": "0b62ec0c",
   "metadata": {},
   "outputs": [
    {
     "data": {
      "text/plain": [
       "(207917, 3)"
      ]
     },
     "execution_count": 70,
     "metadata": {},
     "output_type": "execute_result"
    }
   ],
   "source": [
    "#Finding out the size of the dataset; Rows:Columns\n",
    "df2.shape"
   ]
  },
  {
   "cell_type": "code",
   "execution_count": 71,
   "id": "55ab5eb0",
   "metadata": {},
   "outputs": [
    {
     "data": {
      "text/plain": [
       "3623     606\n",
       "906      600\n",
       "1811     593\n",
       "7590     590\n",
       "8068     585\n",
       "        ... \n",
       "3267       1\n",
       "1218       1\n",
       "7361       1\n",
       "11335      1\n",
       "2047       1\n",
       "Name: user_id, Length: 8823, dtype: int64"
      ]
     },
     "execution_count": 71,
     "metadata": {},
     "output_type": "execute_result"
    }
   ],
   "source": [
    "#Getting a count of the number of unique values in this column; this column will play a pivotal role in our inquiry\n",
    "df2['user_id'].value_counts()"
   ]
  },
  {
   "cell_type": "code",
   "execution_count": 72,
   "id": "59185162",
   "metadata": {},
   "outputs": [],
   "source": [
    "#Reading the second csv file into a dataframe again to parse the dates by weeks\n",
    "df2 = pd.read_csv('takehome_user_engagement.csv', parse_dates=['time_stamp'])"
   ]
  },
  {
   "cell_type": "code",
   "execution_count": 73,
   "id": "de5eeb89",
   "metadata": {},
   "outputs": [],
   "source": [
    "#Creating new column where timestamps are parsed by week\n",
    "df2['weeks'] = df2['time_stamp'].dt.isocalendar().week"
   ]
  },
  {
   "cell_type": "code",
   "execution_count": 74,
   "id": "7a2d15a0",
   "metadata": {},
   "outputs": [],
   "source": [
    "#Grouping by 'weeks' and 'user_id' and resetting the index\n",
    "df2 = df2.groupby(['weeks', 'user_id'])['time_stamp'].count().reset_index(name='amount')"
   ]
  },
  {
   "cell_type": "code",
   "execution_count": 75,
   "id": "3a676a4e",
   "metadata": {},
   "outputs": [],
   "source": [
    "#Preparing a list of user_ids that meet this requirement of logging in at least 3 times in a one week interval\n",
    "result = df2[df2['amount'] >= 3 ]"
   ]
  },
  {
   "cell_type": "code",
   "execution_count": 77,
   "id": "84c63a41",
   "metadata": {},
   "outputs": [],
   "source": [
    "#Creating a list of user_ids that meet the requirements of our inquiry\n",
    "user_ids = result.user_id.tolist()\n",
    "#print(user_ids)"
   ]
  },
  {
   "cell_type": "code",
   "execution_count": 79,
   "id": "be512297",
   "metadata": {},
   "outputs": [
    {
     "name": "stdout",
     "output_type": "stream",
     "text": [
      "29771\n"
     ]
    }
   ],
   "source": [
    "#Getting the amount of user_ids that meet the criteria by using len function\n",
    "print(len(user_ids))"
   ]
  },
  {
   "cell_type": "code",
   "execution_count": 81,
   "id": "7612a755",
   "metadata": {},
   "outputs": [],
   "source": [
    "#Creating a list of tuples consisting of user_ids and amount of times logged-in\n",
    "user_amount = [(x, y) for x, y in zip(result.user_id, result.amount)]\n",
    "#print(user_amount)"
   ]
  },
  {
   "cell_type": "code",
   "execution_count": 114,
   "id": "a1aa97e5",
   "metadata": {},
   "outputs": [],
   "source": [
    "#Creating a new list to use as a delineater for 'adopted users' and 'non adopted users'\n",
    "new_column = [user for user in df1['object_id'] if user in result['user_id']]"
   ]
  },
  {
   "cell_type": "code",
   "execution_count": 121,
   "id": "f4e8cd14",
   "metadata": {},
   "outputs": [
    {
     "name": "stdout",
     "output_type": "stream",
     "text": [
      "<class 'pandas.core.frame.DataFrame'>\n",
      "RangeIndex: 12000 entries, 0 to 11999\n",
      "Data columns (total 5 columns):\n",
      " #   Column                      Non-Null Count  Dtype \n",
      "---  ------                      --------------  ----- \n",
      " 0   object_id                   12000 non-null  int64 \n",
      " 1   creation_source             12000 non-null  object\n",
      " 2   opted_in_to_mailing_list    12000 non-null  int64 \n",
      " 3   enabled_for_marketing_drip  12000 non-null  int64 \n",
      " 4   org_id                      12000 non-null  int64 \n",
      "dtypes: int64(4), object(1)\n",
      "memory usage: 468.9+ KB\n"
     ]
    }
   ],
   "source": [
    "#How the dataframe looks now\n",
    "df1.info()"
   ]
  },
  {
   "cell_type": "code",
   "execution_count": 122,
   "id": "abcdd949",
   "metadata": {},
   "outputs": [],
   "source": [
    "#Creating a new column for the first dataframe that delineates between adopted user and non adopted user to use as a 'label'\n",
    "#column\n",
    "df1['user_id'] = [1 if user in new_column else 0 for user in df1['object_id']]"
   ]
  },
  {
   "cell_type": "code",
   "execution_count": 127,
   "id": "042323b4",
   "metadata": {},
   "outputs": [],
   "source": [
    "#Replacing the old values of 'creation_source' column with integers so it will work with the algorithm to be used\n",
    "df1['creation_source'] = df1['creation_source'].replace(['GUEST_INVITE', 'ORG_INVITE', 'SIGNUP', 'PERSONAL_PROJECTS',\n",
    "                                                        'SIGNUP_GOOGLE_AUTH'], [1, 2, 3, 4, 5])"
   ]
  },
  {
   "cell_type": "code",
   "execution_count": 130,
   "id": "ac3be6bc",
   "metadata": {},
   "outputs": [],
   "source": [
    "#Dropping the old column 'object_id' as it has been replaced with 'user_id' which has labelled the values in boolean-like\n",
    "#form to distinguish between adopted users and non users.\n",
    "df1 = df1.drop(columns=['object_id'])"
   ]
  },
  {
   "cell_type": "code",
   "execution_count": 131,
   "id": "30afa501",
   "metadata": {},
   "outputs": [
    {
     "data": {
      "text/html": [
       "<div>\n",
       "<style scoped>\n",
       "    .dataframe tbody tr th:only-of-type {\n",
       "        vertical-align: middle;\n",
       "    }\n",
       "\n",
       "    .dataframe tbody tr th {\n",
       "        vertical-align: top;\n",
       "    }\n",
       "\n",
       "    .dataframe thead th {\n",
       "        text-align: right;\n",
       "    }\n",
       "</style>\n",
       "<table border=\"1\" class=\"dataframe\">\n",
       "  <thead>\n",
       "    <tr style=\"text-align: right;\">\n",
       "      <th></th>\n",
       "      <th>creation_source</th>\n",
       "      <th>opted_in_to_mailing_list</th>\n",
       "      <th>enabled_for_marketing_drip</th>\n",
       "      <th>org_id</th>\n",
       "      <th>user_id</th>\n",
       "    </tr>\n",
       "  </thead>\n",
       "  <tbody>\n",
       "    <tr>\n",
       "      <th>0</th>\n",
       "      <td>1</td>\n",
       "      <td>1</td>\n",
       "      <td>0</td>\n",
       "      <td>11</td>\n",
       "      <td>1</td>\n",
       "    </tr>\n",
       "    <tr>\n",
       "      <th>1</th>\n",
       "      <td>2</td>\n",
       "      <td>0</td>\n",
       "      <td>0</td>\n",
       "      <td>1</td>\n",
       "      <td>1</td>\n",
       "    </tr>\n",
       "    <tr>\n",
       "      <th>2</th>\n",
       "      <td>2</td>\n",
       "      <td>0</td>\n",
       "      <td>0</td>\n",
       "      <td>94</td>\n",
       "      <td>0</td>\n",
       "    </tr>\n",
       "    <tr>\n",
       "      <th>3</th>\n",
       "      <td>1</td>\n",
       "      <td>0</td>\n",
       "      <td>0</td>\n",
       "      <td>1</td>\n",
       "      <td>0</td>\n",
       "    </tr>\n",
       "    <tr>\n",
       "      <th>4</th>\n",
       "      <td>1</td>\n",
       "      <td>0</td>\n",
       "      <td>0</td>\n",
       "      <td>193</td>\n",
       "      <td>1</td>\n",
       "    </tr>\n",
       "  </tbody>\n",
       "</table>\n",
       "</div>"
      ],
      "text/plain": [
       "   creation_source  opted_in_to_mailing_list  enabled_for_marketing_drip  \\\n",
       "0                1                         1                           0   \n",
       "1                2                         0                           0   \n",
       "2                2                         0                           0   \n",
       "3                1                         0                           0   \n",
       "4                1                         0                           0   \n",
       "\n",
       "   org_id  user_id  \n",
       "0      11        1  \n",
       "1       1        1  \n",
       "2      94        0  \n",
       "3       1        0  \n",
       "4     193        1  "
      ]
     },
     "execution_count": 131,
     "metadata": {},
     "output_type": "execute_result"
    }
   ],
   "source": [
    "#Now we have the dataframe we want to work with to discover how much of a factor these features are in predicting user\n",
    "#adoption\n",
    "df1.head()"
   ]
  },
  {
   "cell_type": "code",
   "execution_count": 132,
   "id": "a58f28fe",
   "metadata": {},
   "outputs": [],
   "source": [
    "#Separating the data into labels and attributes to figure out how much these features influence the labels of adopted user\n",
    "#and non adopted user\n",
    "X = df1.drop('user_id', axis=1)\n",
    "y = df1['user_id']"
   ]
  },
  {
   "cell_type": "code",
   "execution_count": 150,
   "id": "3d272302",
   "metadata": {},
   "outputs": [],
   "source": [
    "#Dividing up the data into training and testing sets\n",
    "from sklearn.model_selection import train_test_split\n",
    "X_train, X_test, y_train, y_test = train_test_split(X, y, test_size=0.20)"
   ]
  },
  {
   "cell_type": "code",
   "execution_count": 151,
   "id": "454c3f3e",
   "metadata": {},
   "outputs": [],
   "source": [
    "#Creating an SVC object and training the algorithm on the training data\n",
    "from sklearn.svm import SVC\n",
    "svclassifier = SVC(kernel='sigmoid')\n",
    "svclassifier.fit(X_train, y_train);"
   ]
  },
  {
   "cell_type": "code",
   "execution_count": 152,
   "id": "601f06f8",
   "metadata": {},
   "outputs": [],
   "source": [
    "#Making a prediction on the test set\n",
    "y_pred = svclassifier.predict(X_test)"
   ]
  },
  {
   "cell_type": "code",
   "execution_count": 153,
   "id": "b7393c52",
   "metadata": {},
   "outputs": [
    {
     "name": "stdout",
     "output_type": "stream",
     "text": [
      "[[491 585]\n",
      " [604 720]]\n",
      "              precision    recall  f1-score   support\n",
      "\n",
      "           0       0.45      0.46      0.45      1076\n",
      "           1       0.55      0.54      0.55      1324\n",
      "\n",
      "    accuracy                           0.50      2400\n",
      "   macro avg       0.50      0.50      0.50      2400\n",
      "weighted avg       0.51      0.50      0.50      2400\n",
      "\n"
     ]
    }
   ],
   "source": [
    "#Evaluating the algorithm with a confusion matrix and classification report\n",
    "from sklearn.metrics import classification_report, confusion_matrix\n",
    "print(confusion_matrix(y_test, y_pred))\n",
    "print(classification_report(y_test, y_pred))"
   ]
  },
  {
   "cell_type": "code",
   "execution_count": null,
   "id": "a983f409",
   "metadata": {},
   "outputs": [],
   "source": [
    "#As can be seen in the confusion matrix above,the SVM classifier predicted just below a 50% accuracy level for non-adopted\n",
    "#user and the classifier predicted a few percentage above the 50% mark for correctly identifying adopted users. The overall\n",
    "#accuracy for the predictions of the test sets rest at 52%. I tried to run the classifier again but the accuracy acutally\n",
    "#decreased a bit. I chose the Support Vector Machine algorithm to address the inquiry here as I believed its ability to \n",
    "#recognize patterns would be well-suited for our inquiry here in identifying features that factor into customers becoming\n",
    "#adopted users or not. Clearly, the SVM classifier predicted that the features either did not factor into that trend of \n",
    "#adopted users or the current dataset was not best handled by the SVM algorithm. Perhaps an unsupervised machine learning\n",
    "#algorithm like Naive Bayes classifier would have worked well here and we could have kept the observations with missing\n",
    "#values as well in that case.In this instance, either the SVM algorithm didn't pan out for our particular inquiry or the\n",
    "#the selected features are poor indicators of future adopted use; of course, there could be other reasons for the poor\n",
    "#performance here but those 2 aforementioned reasons immediately come to mind."
   ]
  }
 ],
 "metadata": {
  "kernelspec": {
   "display_name": "Python 3",
   "language": "python",
   "name": "python3"
  },
  "language_info": {
   "codemirror_mode": {
    "name": "ipython",
    "version": 3
   },
   "file_extension": ".py",
   "mimetype": "text/x-python",
   "name": "python",
   "nbconvert_exporter": "python",
   "pygments_lexer": "ipython3",
   "version": "3.8.8"
  }
 },
 "nbformat": 4,
 "nbformat_minor": 5
}
